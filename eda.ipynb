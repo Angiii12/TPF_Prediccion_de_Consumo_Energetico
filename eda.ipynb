{
 "cells": [
  {
   "cell_type": "code",
   "execution_count": 6,
   "id": "d013ccbb",
   "metadata": {},
   "outputs": [
    {
     "name": "stdout",
     "output_type": "stream",
     "text": [
      "Collecting openpyxl\n",
      "  Using cached openpyxl-3.1.5-py2.py3-none-any.whl.metadata (2.5 kB)\n",
      "Collecting et-xmlfile (from openpyxl)\n",
      "  Downloading et_xmlfile-2.0.0-py3-none-any.whl.metadata (2.7 kB)\n",
      "Downloading openpyxl-3.1.5-py2.py3-none-any.whl (250 kB)\n",
      "Downloading et_xmlfile-2.0.0-py3-none-any.whl (18 kB)\n",
      "Installing collected packages: et-xmlfile, openpyxl\n",
      "\n",
      "   -------------------- ------------------- 1/2 [openpyxl]\n",
      "   -------------------- ------------------- 1/2 [openpyxl]\n",
      "   -------------------- ------------------- 1/2 [openpyxl]\n",
      "   -------------------- ------------------- 1/2 [openpyxl]\n",
      "   -------------------- ------------------- 1/2 [openpyxl]\n",
      "   ---------------------------------------- 2/2 [openpyxl]\n",
      "\n",
      "Successfully installed et-xmlfile-2.0.0 openpyxl-3.1.5\n",
      "Note: you may need to restart the kernel to use updated packages.\n"
     ]
    }
   ],
   "source": [
    "pip install openpyxl"
   ]
  },
  {
   "cell_type": "code",
   "execution_count": 1,
   "id": "4563e246",
   "metadata": {},
   "outputs": [
    {
     "name": "stdout",
     "output_type": "stream",
     "text": [
      "--- Resumen de hojas y columnas ---\n",
      "                         hoja  filas  columnas  \\\n",
      "0             Consolidado KPI  12010       125   \n",
      "1                       Metas     48        57   \n",
      "2      Consolidado Produccion  12011        19   \n",
      "3    Totalizadores Produccion  12009        41   \n",
      "4              Consolidado EE  12011        24   \n",
      "5       Totalizadores Energia  12009        54   \n",
      "6            Consolidado Agua  12011        24   \n",
      "7          Totalizadores Agua  12009        44   \n",
      "8        Consolidado GasVapor  12011        20   \n",
      "9   Totalizadores Gas y Vapor  12009        24   \n",
      "10           Consolidado Aire  12011        14   \n",
      "11         Totalizadores Aire  12009        12   \n",
      "12          Totalizadores CO2  12009         9   \n",
      "13    Totalizadores Efluentes  12009         9   \n",
      "14       Totalizadores Glicol  12009         8   \n",
      "15            Seguimiento Dia  12009         4   \n",
      "16                   Auxiliar  12011        38   \n",
      "17          Kw Frio  Hl Mosto  12372        15   \n",
      "\n",
      "                                     nombres_columnas  \n",
      "0   DIA, HORA, EE Planta / Hl, EE Elaboracion / Hl...  \n",
      "1   Mes / Año, Año + Mes, Agua Planta, EE Planta, ...  \n",
      "2   DIA, HORA, Hl de Mosto, Hl Cerveza Cocina, Hl ...  \n",
      "3   DIA, HORA, HL Mosto Budweiser, HL Mosto Tecate...  \n",
      "4   DIA, HORA, Planta (Kw), Elaboracion (Kw), Bode...  \n",
      "5   DIA, HORA, KW Gral Planta, KW Trafo 4, KW Traf...  \n",
      "6   DIA, HORA, Agua Planta (Hl), Agua Elaboracion ...  \n",
      "7   DIA, HORA, Red L1 y L2, FC L1 y L2, Red Paste ...  \n",
      "8   DIA, HORA, Conversion Kg/Mj, Gas Planta (Mj), ...  \n",
      "9   DIA, HORA, M3_Tot_Gas, Tot_Vapor_Caldera 3, To...  \n",
      "10  DIA, HORA, Aire Producido (M3), Aire Planta (M...  \n",
      "11  DIA, HORA, Totalizador_Aire_L2, Totalizador_Ai...  \n",
      "12  DIA, HORA, Totalizador_L2_Barriles, Totalizado...  \n",
      "13  DIA, HORA, Totalizador Bba P1, Totalizador Bba...  \n",
      "14  DIA, HORA, Tot L3, L4 y Planta de CO2, Tot A40...  \n",
      "15                 DIA, HORA, Ultimo Dato del Dia, Id  \n",
      "16  Unnamed: 0, DIA, HORA, Unnamed: 3, DIA.1, HORA...  \n",
      "17  Dia, Hora, Dia / Hora, Unnamed: 3, Hl de Mosto...  \n"
     ]
    }
   ],
   "source": [
    "import pandas as pd\n",
    "from pathlib import Path\n",
    "# from caas_jupyter_tools import display_dataframe_to_user  # <-- 1. BORRÁ O COMENTÁ ESTA LÍNEA\n",
    "\n",
    "ruta = Path(\"/mnt/data/Totalizadores Planta de Cerveza 2021_2022.xlsx\")\n",
    "\n",
    "# 1) Cargar el archivo una sola vez\n",
    "xls = pd.ExcelFile('Totalizadores Planta de Cerveza 2023_2024.xlsx')\n",
    "\n",
    "# 2) Crear un dict con un DataFrame por hoja\n",
    "dfs = {}\n",
    "resumen = []\n",
    "\n",
    "for hoja in xls.sheet_names:\n",
    "    df = pd.read_excel(xls, sheet_name=hoja)\n",
    "    dfs[hoja] = df\n",
    "    resumen.append({\n",
    "        \"hoja\": hoja,\n",
    "        \"filas\": len(df),\n",
    "        \"columnas\": df.shape[1],\n",
    "        \"nombres_columnas\": \", \".join(map(str, df.columns.tolist()))\n",
    "    })\n",
    "\n",
    "# 3) Mostrar un resumen amigable\n",
    "resumen_df = pd.DataFrame(resumen)\n",
    "\n",
    "# --- 2. REEMPLAZÁ LA LÍNEA ORIGINAL POR ESTAS DOS ---\n",
    "print(\"--- Resumen de hojas y columnas ---\")\n",
    "print(resumen_df)\n",
    "# ---------------------------------------------------\n",
    "\n",
    "# Nota: Los DataFrames quedan disponibles en el dict dfs (ej: dfs[\"NombreDeLaHoja\"])"
   ]
  }
 ],
 "metadata": {
  "kernelspec": {
   "display_name": "cervecera_env",
   "language": "python",
   "name": "python3"
  },
  "language_info": {
   "codemirror_mode": {
    "name": "ipython",
    "version": 3
   },
   "file_extension": ".py",
   "mimetype": "text/x-python",
   "name": "python",
   "nbconvert_exporter": "python",
   "pygments_lexer": "ipython3",
   "version": "3.12.11"
  }
 },
 "nbformat": 4,
 "nbformat_minor": 5
}
